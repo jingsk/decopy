{
 "cells": [
  {
   "cell_type": "code",
   "execution_count": null,
   "id": "daa6a8c0",
   "metadata": {},
   "outputs": [],
   "source": [
    "import numpy as np\n",
    "import pandas as pd"
   ]
  },
  {
   "cell_type": "markdown",
   "id": "839ebba8",
   "metadata": {},
   "source": [
    "$\\newcommand{\\ket}[1]{\\left|{#1}\\right\\rangle}$\n",
    "$\\newcommand{\\bra}[1]{\\left\\langle{#1}\\right|}$\n",
    "$\\newcommand{\\AA}[]{\\unicode{x212B}}$\n",
    "\n",
    "Calculate coherence decay of an electron spin as a result of interactions with nuclear spin bath for a given supercell. An electron spin is initialized in a superposition state $\\ket{0}+\\ket{1}$ (or other) then the spin state is evolved under the Master equation through a spin hamiltonian defined by the crystal lattice. Cluster Correlation Expansion method is used to separate the interaction space into clusters to reduce the size of the Hilbert space in diagonalizing the hamiltonian."
   ]
  },
  {
   "cell_type": "code",
   "execution_count": null,
   "id": "20284f66",
   "metadata": {},
   "outputs": [],
   "source": [
    "\"\"\"declare variable here\"\"\"\n",
    "cce_order=2\n",
    "mag_field=[0,0,5.0] #Tesla\n",
    "spin_gyromagratio = 2.00 #M rad s-1 T-1\n",
    "cluster_cutoff= 5 #Angstrom\n",
    "final_time = 1e-5 # in s\n",
    "time_step = 1000 #number of steps\n",
    "bath_radial_cutoff=50 #Angstrom\n",
    "electron_zeeman_file=path_to_GIPAW_output\n",
    "bath_interaction=path_to_GIPAW_output\n",
    "spin_bath_interaction=path_to_GIPAW_output\n",
    "geometry_file = path_to_CONTCAR\n",
    "supercell_repeat= (1,1,3)\n",
    "spin_position= [0,0,0] #change to sp3 carbon"
   ]
  },
  {
   "cell_type": "markdown",
   "id": "c3acbc64",
   "metadata": {},
   "source": [
    "here we tell the program to set spin at a specific location and tell it \n",
    "to prepare an electronic state at $\\ket{0}+\\ket{1}$ after Hahn's initial 90$^{\\circ}$ pulse. State $\\ket{0}$ and $\\ket{1}$ are separated by Zeeman energy splitting which we obtained from GIPAW.\n",
    "\n",
    "system hamiltonian is purely Zeeman assuming electron spin resides on a C-12 site (see https://static-content.springer.com/esm/art%3A10.1038%2Fncomms12935/MediaObjects/41467_2016_BFncomms12935_MOESM89_ESM.pdf for hamiltonian):\n"
   ]
  },
  {
   "cell_type": "code",
   "execution_count": null,
   "id": "1ceb3b48",
   "metadata": {},
   "outputs": [],
   "source": [
    "#create e_spin object\n",
    "\n",
    "sp3_defect_spin = spin(gamma_e=spin_gyromagratio,\n",
    "              e_zeeman=read_from_GIPAW(file_name),\n",
    "              spin_position=spin_position,\n",
    "              mag_field)"
   ]
  },
  {
   "cell_type": "markdown",
   "id": "6e3d74c2",
   "metadata": {},
   "source": [
    "give bath position as CONTCAR and create a supercell. Apply r_cutoff and  populate the sites randomly with isotopes based on natural abundance. Also initialize the bath state by randomly assign either aligned or anti-aligned with mag_field.\n",
    "\n",
    "Bath interaction is purely the secular dipolar interactions (see SpinDec manual for formula):\n",
    "$$\\hat{H}_{D} = D\\hat{S}^{z}_{1}\\hat{S}^{z}_{2} - \\frac{D}{4}[\\hat{S}^{+}_{1}\\hat{S}^{-}_{2}+\\hat{S}^{-}_{1}\\hat{S}^{+}_{2}],$$\n",
    "\n",
    "with \n",
    "\n",
    "$$D=\\frac{D_{0}\\gamma_{1}\\gamma_{2}(1-3cos^2(\\theta))}{r^3}$$\n",
    "\n",
    "- $\\gamma_1,\\gamma_2 [M rad s^{-1}T^{-1}]$ are gyromacnetic ratios\n",
    "- $\\theta [rad]$ is the angle between the magnetic field direction and the vector connecting spin1,2\n",
    "- $r [m]$: distance between two spins\n",
    "- $D_{0} = 10^6 (\\frac{\\mu_0\\hbar{}}{4\\pi}) [M rad s^{-1} m^{3}]$\n",
    "- $\\hbar [Js]$"
   ]
  },
  {
   "cell_type": "code",
   "execution_count": null,
   "id": "5364a051",
   "metadata": {},
   "outputs": [],
   "source": [
    "#create spin_bath object\n",
    "SWCNT_Ph_NO2_spin = spin_bath(bath_positions = path_to_CONTCAR,\n",
    "                              repeat = supercell_repeat,\n",
    "                              r_cutoff = bath_radial_cutoff,\n",
    "                              interaction = bath_interaction, \n",
    "                              mag_field)"
   ]
  },
  {
   "cell_type": "markdown",
   "id": "ea271472",
   "metadata": {},
   "source": [
    "pair system(e spin) and bath together and gives system-bath interactions given by GIPAW"
   ]
  },
  {
   "cell_type": "code",
   "execution_count": null,
   "id": "b87f81db",
   "metadata": {},
   "outputs": [],
   "source": [
    "system_bath = (system=sp3_defect_spin, \n",
    "               bath = SWCNT_Ph_NO2_spin, \n",
    "               interaction=spin_bath_interaction, field = mag_field)"
   ]
  },
  {
   "cell_type": "markdown",
   "id": "563ecbbb",
   "metadata": {},
   "source": [
    "Create a vertices which stores interacting clusters based on cluster cutoff, cce order. For example, order=2, electron site may interact with a bath site that is 10 $\\AA{}$ away but that site also includes interactions with one site that is within 5 $\\AA{}$. We need to include all such pairs to properly define spin hamiltonian in truncated space."
   ]
  },
  {
   "cell_type": "code",
   "execution_count": null,
   "id": "b2a138a5",
   "metadata": {},
   "outputs": [],
   "source": [
    "bath_vertices = CCE_vertices(bath_sites=SWCNT_Ph_NO2_spin.get_bath_geometry(),\n",
    "                             order=cce_order,\n",
    "                             cluster_cutoff = cluster_cutoff)"
   ]
  },
  {
   "cell_type": "markdown",
   "id": "efa50f77",
   "metadata": {},
   "source": [
    "define time array and solve CCE problem. Here we solve the master equation with spin Hamiltonian and calculate decoherence with the bath density matrix."
   ]
  },
  {
   "cell_type": "code",
   "execution_count": null,
   "id": "c45881c3",
   "metadata": {},
   "outputs": [],
   "source": [
    "time_array = np.linspace(0, final_time, time_step, endpoint=True)\n",
    "cce = CCE(system_bath, \n",
    "          cce_order, \n",
    "          bath_vertices, \n",
    "          time_array)\n",
    "cce.calculate()"
   ]
  },
  {
   "cell_type": "code",
   "execution_count": null,
   "id": "5c510494",
   "metadata": {},
   "outputs": [],
   "source": [
    "cce.plot_decoherence()"
   ]
  },
  {
   "cell_type": "code",
   "execution_count": null,
   "id": "c7f12323",
   "metadata": {},
   "outputs": [],
   "source": [
    "T2=cce.fit_T2()\n",
    "print(\"T2 = \"+T2+\" ms\")"
   ]
  }
 ],
 "metadata": {
  "kernelspec": {
   "display_name": "Python 3",
   "language": "python",
   "name": "python3"
  },
  "language_info": {
   "codemirror_mode": {
    "name": "ipython",
    "version": 3
   },
   "file_extension": ".py",
   "mimetype": "text/x-python",
   "name": "python",
   "nbconvert_exporter": "python",
   "pygments_lexer": "ipython3",
   "version": "3.7.1"
  }
 },
 "nbformat": 4,
 "nbformat_minor": 5
}

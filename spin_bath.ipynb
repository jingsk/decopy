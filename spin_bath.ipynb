{
 "cells": [
  {
   "cell_type": "code",
   "execution_count": null,
   "id": "2b87cafb",
   "metadata": {},
   "outputs": [],
   "source": [
    "from bath.py import bath\n",
    "import numpy as np\n",
    "from qutip import basis\n",
    "\n",
    "class spin_bath(bath):\n",
    "    \"\"\"\n",
    "    makes bath hamiltonian of each bath site.\n",
    "    make_hamiltonian should be used after knowing \n",
    "    cce order perhaps called by CCE class.\n",
    "    \"\"\"\n",
    "    def __init__(self, bath, gyromagneticratio_data_set):\n",
    "        self.bath_sites=bath\n",
    "        self.gyro=gyro_data_set\n",
    "        self.state_vector=generate_initial_state(bath_site.get_number_of_sites())\n",
    "        self.hamiltonian=np.array([[np.eye(2)]*self.bath_site.get_number_of_sites()])\n",
    "\n",
    "def generate_initial_state(n_sites):\n",
    "    \"\"\"\n",
    "    randomly assign up or down magnetic state\n",
    "    \"\"\"\n",
    "    state_list=[]\n",
    "    for site in range(n_site):\n",
    "        state=basis(2, int(np.rand()))\n",
    "        state_list.append(state)\n",
    "    return np.array(state_list)\n",
    "\n",
    "def make_hamiltonian(positions, cce_order, bath_vertices):\n",
    "    \"\"\"\n",
    "    for cce=2, for each site, loop thru other sites and make h_nn\n",
    "    \"\"\"\n",
    "    h_list=[]\n",
    "    vertices = bath_vertices[cce_order]\n",
    "    if cce_order ==2:\n",
    "        h_list=[]\n",
    "        for site in np.unique(vertices[:,0]):\n",
    "            array_with_site = a[np.where(vertices[:,0]==site)]\n",
    "            for other_site in array_with_site[0,:]:\n",
    "                h_list.append(np.eye(2)+get_nn_interactions(site, other_site))\n",
    "        return np.array(h_list)\n",
    "\n",
    "def get_nn_interactions(site1, site2, gyro):\n",
    "    \"\"\"\n",
    "    calculate h_nn based on eq in paper \n",
    "    currently not very complete\n",
    "    \"\"\"\n",
    "    r1=site1.positions\n",
    "    r2=site2.positions\n",
    "    I1=state_vector(site1.index)\n",
    "    I2=state_vector(site2.index)\n",
    "    #add equation to calculate interaction hamiltonian\n",
    "    return site_hamiltonian"
   ]
  }
 ],
 "metadata": {
  "kernelspec": {
   "display_name": "Python 3",
   "language": "python",
   "name": "python3"
  },
  "language_info": {
   "codemirror_mode": {
    "name": "ipython",
    "version": 3
   },
   "file_extension": ".py",
   "mimetype": "text/x-python",
   "name": "python",
   "nbconvert_exporter": "python",
   "pygments_lexer": "ipython3",
   "version": "3.7.1"
  }
 },
 "nbformat": 4,
 "nbformat_minor": 5
}

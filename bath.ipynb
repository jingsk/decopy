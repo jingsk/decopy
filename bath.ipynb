{
 "cells": [
  {
   "cell_type": "code",
   "execution_count": 17,
   "id": "92c5b2ad",
   "metadata": {},
   "outputs": [],
   "source": [
    "import numpy as np\n",
    "import pandas as pd\n",
    "from ase.io import read\n",
    "from ase.visualize import view\n",
    "from wrapcube import cleanUp\n",
    "from ase.data.isotopes import download_isotope_data\n",
    "from ase.symbols import string2symbols, symbols2numbers\n",
    "isotopes = download_isotope_data()\n",
    "\n",
    "#usage guide\n",
    "#SWCNT=bath('CONTCAR')\n",
    "#SWCNT.bath_geometry\n",
    "\n",
    "class bath:\n",
    "    #fname is file name to read\n",
    "    #supercell a tuple for repeating unit cell in x,y,z \n",
    "    def __init__(self, fname,supercell, r_cutoff=0.0):\n",
    "        #wrap and center if vacuum exists\n",
    "        self.atoms=cleanUp(read(fname))*supercell\n",
    "        #for atom species in atoms get isotope abundance data\n",
    "        self.spin_table = get_spin_table(self.atoms)\n",
    "        #randomly generate spin bath geometry based on % abundance\n",
    "        #df of symbol (~p), x, y, z, isotope (n+p), nuclear_spin (I), distance\n",
    "        self.bath_geometry= generate_spin_sites(self.atoms,self.spin_table)\n",
    "        \n",
    "    #\n",
    "def get_spin_table(atoms):\n",
    "#isotope_df=pd.DataFrame({})\n",
    "    #atoms=self.atoms\n",
    "    isotope_dfs=[]\n",
    "    for atom in get_unique_atomic_species(atoms):\n",
    "        atom_isotope_df=pd.DataFrame(isotopes[atom]).T\n",
    "        atom_isotope_df.loc[:,'atomic_number']=atom\n",
    "        atom_isotope_df=atom_isotope_df[atom_isotope_df.composition>0]\n",
    "        #isotope_df.index.name='num_p+n'\n",
    "        atom_isotope_df.loc[:,'nuclear_spin']=atom=get_nuclear_spin(atom_isotope_df.index-atom,atom)\n",
    "        #atom_isotope_df=atom_isotope_df[is_spin_active(atom_isotope_df.nuclear_spin)]\n",
    "        isotope_dfs.append(atom_isotope_df)\n",
    "    return pd.concat(isotope_dfs)\n",
    "def generate_spin_sites(atoms,spin_table):\n",
    "    #atoms=self.atoms\n",
    "    #spin_table=self.spin_table\n",
    "    #make xyz like df\n",
    "    positions=pd.concat([pd.DataFrame(atoms.get_chemical_symbols(),columns=['symbol']), \n",
    "               pd.DataFrame(atoms.get_positions(),columns=['x','y','z'])],\n",
    "               axis=1)\n",
    "    spin_active_positions_list=[]\n",
    "    #loop through elements in atomic positions\n",
    "    for species in np.unique(positions.symbol):\n",
    "        #dataframe of positions of the atomic species\n",
    "        species_positions=positions[positions.symbol==species]\n",
    "        #get atomic number\n",
    "        atomic_number=symbols2numbers(species)[0]\n",
    "        #spin_table of the atomic species\n",
    "        atom_isotope_df=spin_table[spin_table.atomic_number==atomic_number]\n",
    "        #create a column in the df of randomly generated numbers from 0 to 1\n",
    "        species_positions.loc[:,'rand']=np.random.rand(species_positions.shape[0])\n",
    "        #generate isotope condition\n",
    "        #this works like this: if X-12, X-13, X-14 has [0.1,0.2,0.7] composition\n",
    "        #starting with all X-12, we assign isotope with rand>0.1 to X-13, rand>0.3 to X-14 \n",
    "        isotope_condition=np.cumsum(np.array(atom_isotope_df.composition))\n",
    "        #initial assignment\n",
    "        species_positions.loc[:,'isotope']=atom_isotope_df.index[0]\n",
    "        #in case there's only one isotope then do nothing\n",
    "        if atom_isotope_df.index.size >1:\n",
    "            #assign isotope based on abundance condition\n",
    "            for i in np.arange(1,atom_isotope_df.index.size):\n",
    "                species_positions.loc[species_positions.rand>isotope_condition[i-1], \"isotope\"]=atom_isotope_df.index[i]\n",
    "        species_positions.drop('rand', axis=1, inplace=True)\n",
    "        #calculate nuclear spin from (p-n)/2\n",
    "        species_positions.loc[:,'nuclear_spin']=get_nuclear_spin(species_positions.isotope-atomic_number,atomic_number)\n",
    "        #remove nuclear spin inactive sites\n",
    "        species_positions=species_positions[is_spin_active(species_positions.nuclear_spin)]\n",
    "        #find distance from electron spin site (assuming at 0,0,0)\n",
    "        species_positions.loc[:,'distance']=get_distance_from_point(species_positions[['x','y','z']])\n",
    "        #remove sites beyond r_cutoff\n",
    "        species_positions=species_positions[within_r_cutoff(species_positions.distance)]\n",
    "        spin_active_positions_list.append(species_positions)\n",
    "    return pd.concat(spin_active_positions_list)\n",
    "\n",
    "\n",
    "def get_unique_atomic_species(atoms):\n",
    "    return np.unique(atoms.get_atomic_numbers())\n",
    "def get_nuclear_spin(num_p,num_n):\n",
    "    return np.abs((num_n-num_p)/2)\n",
    "def is_spin_active(nuclear_spin):\n",
    "    return nuclear_spin!=0\n",
    "def get_distance_from_point(positions,point=[0,0,0]):\n",
    "    rel_x=positions.x-point[0]\n",
    "    rel_y=positions.y-point[1]\n",
    "    rel_z=positions.z-point[2]\n",
    "    return np.sqrt(rel_x**2+rel_y**2+rel_z**2)\n",
    "#r_cutoff in angstrom\n",
    "def within_r_cutoff(distance,r_cutoff=100):\n",
    "    return distance <r_cutoff\n",
    "\n",
    "#SWCNT=bath('CONTCAR_NO2',(1,1,3))\n",
    "#SWCNT.bath_geometry"
   ]
  },
  {
   "cell_type": "code",
   "execution_count": 49,
   "id": "f8613cfa",
   "metadata": {},
   "outputs": [],
   "source": [
    "#view(SWCNT.atoms)"
   ]
  },
  {
   "cell_type": "code",
   "execution_count": 23,
   "id": "41813d7f",
   "metadata": {},
   "outputs": [
    {
     "data": {
      "text/plain": [
       "Atoms(symbols='C1110H12N3O6', pbc=True, cell=[32.37229826707859, 19.92141431820218, 121.34414775492829])"
      ]
     },
     "execution_count": 23,
     "metadata": {},
     "output_type": "execute_result"
    }
   ],
   "source": [
    "#atoms=read('CONTCAR_NO2')\n",
    "#atoms*(1,1,3)"
   ]
  },
  {
   "cell_type": "code",
   "execution_count": 24,
   "id": "c1e2f60e",
   "metadata": {},
   "outputs": [
    {
     "data": {
      "text/plain": [
       "array([[11.93580916, 10.69527438,  0.03343286],\n",
       "       [11.86735095, 10.80433899,  2.47671454],\n",
       "       [10.87976576, 11.813973  ,  2.40372305],\n",
       "       ...,\n",
       "       [18.67744178,  8.89783322, 19.91038783],\n",
       "       [19.24264933,  7.85066055, 19.59878995],\n",
       "       [19.24928141,  9.92506751, 20.27216486]])"
      ]
     },
     "execution_count": 24,
     "metadata": {},
     "output_type": "execute_result"
    }
   ],
   "source": [
    "#atoms.positions"
   ]
  }
 ],
 "metadata": {
  "kernelspec": {
   "display_name": "Python 3",
   "language": "python",
   "name": "python3"
  },
  "language_info": {
   "codemirror_mode": {
    "name": "ipython",
    "version": 3
   },
   "file_extension": ".py",
   "mimetype": "text/x-python",
   "name": "python",
   "nbconvert_exporter": "python",
   "pygments_lexer": "ipython3",
   "version": "3.7.1"
  }
 },
 "nbformat": 4,
 "nbformat_minor": 5
}

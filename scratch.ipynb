{
 "cells": [
  {
   "cell_type": "markdown",
   "id": "c83532ce",
   "metadata": {},
   "source": [
    "### Test case: calculating H_nn for a bath with 2 nuclei with I=0.5. \n",
    "\n",
    "For two nuclei: we use the following basis:\n",
    "\n",
    "$\\begin{bmatrix}\n",
    "\\uparrow \\uparrow\n",
    "\\\\ \\uparrow \\downarrow\n",
    "\\\\ \\downarrow \\uparrow\n",
    "\\\\ \\downarrow \\downarrow\n",
    "\\end{bmatrix}$\n",
    "\n",
    "Evidently, $\\hat{I_z}$ matrix takes the form of \n",
    "\n",
    "$$\\hat{I_z} =  \\hat{\\sigma_z} \\otimes \\mathbb{1}  + \\mathbb{1} \\otimes \\hat{\\sigma_z},$$\n",
    "\n",
    "$$\\sigma_z = \\begin{bmatrix}\n",
    "1 & 0\\\\\n",
    "0 & -1 \n",
    "\\end{bmatrix}$$\n",
    "\n",
    "\n",
    "For general nuclear spin operator in 3D: \n",
    "$$\\hat{I_1} = \\vec{\\sigma} \\otimes \\mathbb{1}$$\n",
    "$$\\hat{I_2} = \\mathbb{1} \\otimes \\vec{\\sigma},$$\n",
    "\n",
    "and\n",
    "\n",
    "$$\\vec{\\sigma} = \\hat{\\sigma_x} + \\hat{\\sigma_y} + \\hat{\\sigma_z}$$\n",
    "\n",
    "below I attempt to write the nuclear-nuclear interaction part of the bath hamiltonian\n",
    "\n",
    "$$H_{nn} = \\frac{\\mu_0}{4\\pi}\\sum_{i<j}{}\\gamma_i\\gamma_j\\hbar^2(\\frac{\\vec{I_i}\\cdot\\vec{I_j}}{r_{ij}^{3}} - \\frac{3(\\vec{I_i} \\cdot \\vec{r_{ij}})(\\vec{I_j} \\cdot \\vec{r_{ij}})}{r_{ij}^{5}})$$\n",
    "\n",
    "\n"
   ]
  },
  {
   "cell_type": "code",
   "execution_count": 1,
   "id": "e2f60006",
   "metadata": {},
   "outputs": [],
   "source": [
    "%matplotlib inline\n",
    "import numpy as np\n",
    "import matplotlib.pyplot as plt\n",
    "from qutip import *\n",
    "\n",
    "B = [0,0,1] #magnetic field (unused now)\n",
    "r1=[3,4,5] #position of n1\n",
    "r2=r1+[5,5,5]/np.sqrt(3) #position of n2\n",
    "r=r2-r1\n",
    "c=1 #constant\n",
    "I_array=[0.5,0.5] # nuclear spin of spin 1 and 2\n",
    "\n",
    "\n",
    "I1=np.array([tensor(spin_Jx(I_array[0]),qeye(2)), #use J spin matrix in case spin !=1/2 \n",
    "             tensor(spin_Jy(I_array[0]),qeye(2)),\n",
    "             tensor(spin_Jz(I_array[0]),qeye(2))], \n",
    "            dtype=object)\n",
    "I2=np.array([tensor(qeye(2),spin_Jx(I_array[1])),\n",
    "             tensor(qeye(2),spin_Jy(I_array[1])),\n",
    "             tensor(qeye(2),spin_Jz(I_array[1]))],\n",
    "            dtype=object)\n",
    "\n",
    "H_nn = c*(I1@I2/np.linalg.norm(r)**3 - 3*(I1@r)*(I2@r)/np.linalg.norm(r)**5)"
   ]
  },
  {
   "cell_type": "code",
   "execution_count": 2,
   "id": "a0a39aab",
   "metadata": {},
   "outputs": [
    {
     "data": {
      "text/latex": [
       "Quantum object: dims = [[2, 2], [2, 2]], shape = (4, 4), type = oper, isherm = True\\begin{equation*}\\left(\\begin{array}{*{11}c}0.0 & (-0.002+0.002j) & (-0.002+0.002j) & 0.004j\\\\(-0.002-0.002j) & 0.0 & 0.0 & (0.002-0.002j)\\\\(-0.002-0.002j) & 0.0 & 0.0 & (0.002-0.002j)\\\\-0.004j & (0.002+0.002j) & (0.002+0.002j) & 0.0\\\\\\end{array}\\right)\\end{equation*}"
      ],
      "text/plain": [
       "Quantum object: dims = [[2, 2], [2, 2]], shape = (4, 4), type = oper, isherm = True\n",
       "Qobj data =\n",
       "[[ 0.   +0.j    -0.002+0.002j -0.002+0.002j  0.   +0.004j]\n",
       " [-0.002-0.002j  0.   +0.j     0.   +0.j     0.002-0.002j]\n",
       " [-0.002-0.002j  0.   +0.j     0.   +0.j     0.002-0.002j]\n",
       " [ 0.   -0.004j  0.002+0.002j  0.002+0.002j  0.   +0.j   ]]"
      ]
     },
     "execution_count": 2,
     "metadata": {},
     "output_type": "execute_result"
    }
   ],
   "source": [
    "H_nn"
   ]
  },
  {
   "cell_type": "code",
   "execution_count": null,
   "id": "a21e946c",
   "metadata": {},
   "outputs": [],
   "source": []
  }
 ],
 "metadata": {
  "kernelspec": {
   "display_name": "Python 3",
   "language": "python",
   "name": "python3"
  },
  "language_info": {
   "codemirror_mode": {
    "name": "ipython",
    "version": 3
   },
   "file_extension": ".py",
   "mimetype": "text/x-python",
   "name": "python",
   "nbconvert_exporter": "python",
   "pygments_lexer": "ipython3",
   "version": "3.7.1"
  }
 },
 "nbformat": 4,
 "nbformat_minor": 5
}

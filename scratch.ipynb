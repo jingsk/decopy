{
 "cells": [
  {
   "cell_type": "markdown",
   "id": "133dc688",
   "metadata": {},
   "source": [
    "### Test case part 1: calculating H_nn for a bath with 2 nuclei with I=0.5. \n",
    "\n",
    "For two nuclei: we use the following basis:\n",
    "\n",
    "$\\begin{bmatrix}\n",
    "\\uparrow \\uparrow\n",
    "\\\\ \\uparrow \\downarrow\n",
    "\\\\ \\downarrow \\uparrow\n",
    "\\\\ \\downarrow \\downarrow\n",
    "\\end{bmatrix}$\n",
    "\n",
    "Evidently, $\\hat{I}_z$ matrix takes the form of \n",
    "\n",
    "$$\\hat{I_z} =  \\hat{\\sigma}_z \\otimes \\mathbb{1}  + \\mathbb{1} \\otimes \\hat{\\sigma}_z,$$\n",
    "\n",
    "$$\\sigma_z = \\begin{bmatrix}\n",
    "1 & 0\\\\\n",
    "0 & -1 \n",
    "\\end{bmatrix}$$\n",
    "\n",
    "or \n",
    "\n",
    "$$ \\hat{I}_z = \n",
    "\\begin{bmatrix}\n",
    "1 & 0 & 0 & 0\\\\\n",
    "0 & 1 & 0 & 0\\\\\n",
    "0 & 0 & -1 & 0\\\\\n",
    "0 & 0 & 0 & -1\\\\\n",
    "\\end{bmatrix} + \n",
    "\\begin{bmatrix}\n",
    "1 & 0 & 0 & 0\\\\\n",
    "0 & -1 & 0 & 0\\\\\n",
    "0 & 0 & 1 & 0\\\\\n",
    "0 & 0 & 0 & -1\\\\\n",
    "\\end{bmatrix} = \\begin{bmatrix}\n",
    "2 & 0 & 0 & 0\\\\\n",
    "0 & 0 & 0 & 0\\\\\n",
    "0 & 0 & 0 & 0\\\\\n",
    "0 & 0 & 0 & -2\\\\\n",
    "\\end{bmatrix}\n",
    "$$\n",
    "\n",
    "For general nuclear spin operator in 3D: \n",
    "$$\\hat{I_1} = \\vec{\\sigma} \\otimes \\mathbb{1}$$\n",
    "$$\\hat{I_2} = \\mathbb{1} \\otimes \\vec{\\sigma},$$\n",
    "\n",
    "and\n",
    "\n",
    "$$\\vec{\\sigma} = \\hat{\\sigma}_x + \\hat{\\sigma}_y + \\hat{\\sigma}_z$$\n",
    "\n",
    "below I attempt to write the nuclear-nuclear interaction part of the bath hamiltonian (i,j sums over bath nuclei):\n",
    "\n",
    "$$H_{nn} = \\frac{\\mu_0}{4\\pi}\\sum_{i<j}{}\\gamma_i\\gamma_j\\hbar^2(\\frac{\\vec{I}_i\\cdot\\vec{I}_j}{r_{ij}^{3}} - \\frac{3(\\vec{I}_i \\cdot \\vec{r}_{ij})(\\vec{I}_j \\cdot \\vec{r}_{ij})}{r_{ij}^{5}})$$\n",
    "\n",
    "$\\vec{r}_{ij}$ is the vector connecting nuclei i,j, $\\gamma_{i,j}$ are the gyromagnetic ratio of nuclei i, and nuclei j."
   ]
  },
  {
   "cell_type": "code",
   "execution_count": 17,
   "id": "527dcb7e",
   "metadata": {},
   "outputs": [],
   "source": [
    "%matplotlib inline\n",
    "import numpy as np\n",
    "import matplotlib.pyplot as plt\n",
    "from qutip import *\n",
    "\n",
    "B = np.array([0,0,1]) #magnetic field (unused now)\n",
    "r1=[3,4,5] #position of n1\n",
    "r2=r1+[1,3,4]/np.sqrt(3) #position of n2\n",
    "r=r2-r1\n",
    "c=1 #constant to be determined. includes all scalar terms\n",
    "nuclear_spin=[0.5,0.5] # nuclear spin of spin 1 and 2\n",
    "\n",
    "\n",
    "I1=np.array([tensor(spin_Jx(nuclear_spin[0]),qeye(2)), #use J spin matrix in case spin !=1/2 \n",
    "             tensor(spin_Jy(nuclear_spin[0]),qeye(2)),\n",
    "             tensor(spin_Jz(nuclear_spin[0]),qeye(2))], \n",
    "            dtype=object)\n",
    "I2=np.array([tensor(qeye(2),spin_Jx(nuclear_spin[1])),\n",
    "             tensor(qeye(2),spin_Jy(nuclear_spin[1])),\n",
    "             tensor(qeye(2),spin_Jz(nuclear_spin[1]))],\n",
    "            dtype=object)\n",
    "\n",
    "H_nn = c*(I1@I2/np.linalg.norm(r)**3 - 3*(I1@r)*(I2@r)/np.linalg.norm(r)**5)"
   ]
  },
  {
   "cell_type": "code",
   "execution_count": 18,
   "id": "99b45b0d",
   "metadata": {},
   "outputs": [
    {
     "data": {
      "text/latex": [
       "Quantum object: dims = [[2, 2], [2, 2]], shape = (4, 4), type = oper, isherm = True\\begin{equation*}\\left(\\begin{array}{*{11}c}-0.008 & (-0.005+0.014j) & (-0.005+0.014j) & (0.009+0.007j)\\\\(-0.005-0.014j) & 0.008 & 0.008 & (0.005-0.014j)\\\\(-0.005-0.014j) & 0.008 & 0.008 & (0.005-0.014j)\\\\(0.009-0.007j) & (0.005+0.014j) & (0.005+0.014j) & -0.008\\\\\\end{array}\\right)\\end{equation*}"
      ],
      "text/plain": [
       "Quantum object: dims = [[2, 2], [2, 2]], shape = (4, 4), type = oper, isherm = True\n",
       "Qobj data =\n",
       "[[-0.00829108+0.j         -0.00452241+0.01356722j -0.00452241+0.01356722j\n",
       "   0.00904482+0.00678361j]\n",
       " [-0.00452241-0.01356722j  0.00829108+0.j          0.00829108+0.j\n",
       "   0.00452241-0.01356722j]\n",
       " [-0.00452241-0.01356722j  0.00829108+0.j          0.00829108+0.j\n",
       "   0.00452241-0.01356722j]\n",
       " [ 0.00904482-0.00678361j  0.00452241+0.01356722j  0.00452241+0.01356722j\n",
       "  -0.00829108+0.j        ]]"
      ]
     },
     "execution_count": 18,
     "metadata": {},
     "output_type": "execute_result"
    }
   ],
   "source": [
    "H_nn"
   ]
  },
  {
   "cell_type": "markdown",
   "id": "639a3f69",
   "metadata": {},
   "source": [
    "### Test case part 2: calculating nuclear Zeeman Hamiltonian\n",
    "\n",
    "The nuclear zeeman hamiltonian is calculated using the following formula:\n",
    "\n",
    "$$H_{n} = -\\vec{B} \\cdot \\sum_{i}\\gamma_i \\hbar \\vec{I}_i,$$\n",
    "\n",
    "with  (i sums over bath nuclei).\n",
    "\n",
    "In the example below I'm using $\\gamma_{1,2} = 1,2$ to show case when nuclear gyromagnetic moments of nuclei 1,2 are not equal. Since magnetic field is along z, only $\\hat{\\sigma}_z$ is expected. The diagonal element of the zeeman hamiltonian corresponds to the expectation value of energy proportional to the expectation value of the spin along the z."
   ]
  },
  {
   "cell_type": "code",
   "execution_count": 3,
   "id": "e7d17da4",
   "metadata": {},
   "outputs": [],
   "source": [
    "%matplotlib inline\n",
    "import numpy as np\n",
    "from qutip import *\n",
    "\n",
    "B = np.array([0,0,1]) #magnetic field (unused now)\n",
    "hbar=1 #constant\n",
    "gamma1=1\n",
    "gamma2=2\n",
    "nuclear_spin=[0.5,0.5] # nuclear spin of spin 1 and 2\n",
    "\n",
    "\n",
    "I1=np.array([tensor(spin_Jx(nuclear_spin[0]),qeye(2)), #use J spin matrix in case spin !=1/2 \n",
    "             tensor(spin_Jy(nuclear_spin[0]),qeye(2)),\n",
    "             tensor(spin_Jz(nuclear_spin[0]),qeye(2))], \n",
    "            dtype=object)\n",
    "I2=np.array([tensor(qeye(2),spin_Jx(nuclear_spin[1])),\n",
    "             tensor(qeye(2),spin_Jy(nuclear_spin[1])),\n",
    "             tensor(qeye(2),spin_Jz(nuclear_spin[1]))],\n",
    "            dtype=object)\n",
    "\n",
    "H_n = -hbar* B@(np.array([gamma1,gamma2])@np.array([I1,I2])) # equivalent to ...@(gamma1*I1+gamma2*I2)"
   ]
  },
  {
   "cell_type": "code",
   "execution_count": 4,
   "id": "9f0036e1",
   "metadata": {},
   "outputs": [
    {
     "data": {
      "text/latex": [
       "Quantum object: dims = [[2, 2], [2, 2]], shape = (4, 4), type = oper, isherm = True\\begin{equation*}\\left(\\begin{array}{*{11}c}-1.500 & 0.0 & 0.0 & 0.0\\\\0.0 & 0.500 & 0.0 & 0.0\\\\0.0 & 0.0 & -0.500 & 0.0\\\\0.0 & 0.0 & 0.0 & 1.500\\\\\\end{array}\\right)\\end{equation*}"
      ],
      "text/plain": [
       "Quantum object: dims = [[2, 2], [2, 2]], shape = (4, 4), type = oper, isherm = True\n",
       "Qobj data =\n",
       "[[-1.5  0.   0.   0. ]\n",
       " [ 0.   0.5  0.   0. ]\n",
       " [ 0.   0.  -0.5  0. ]\n",
       " [ 0.   0.   0.   1.5]]"
      ]
     },
     "execution_count": 4,
     "metadata": {},
     "output_type": "execute_result"
    }
   ],
   "source": [
    "H_n"
   ]
  },
  {
   "cell_type": "markdown",
   "id": "e3002d72",
   "metadata": {},
   "source": [
    "### Test case part3: system bath interaction thru the hyperfine tensor\n",
    "\n",
    "Taking hamiltonian with certain approximations from https://static-content.springer.com/esm/art%3A10.1038%2Fncomms12935/MediaObjects/41467_2016_BFncomms12935_MOESM89_ESM.pdf equation (9), (7):\n",
    "\n",
    "$$H_{hyperfine} = m_s \\sum_{i} \\vec{A}_i \\cdot \\vec{I}_i = m_s \\sum_{i} (A_{zx,i}I_{ix} + A_{zy,i}I_{iy} + A_{zz,i}I_{iz}),$$\n",
    "\n",
    "with i sums over bath nuclei, $A_{zx}, A_{zy}$ are the pseudo-secular hyperfine couplings, $A_{zz}$ is the secular hyperfine coupling. \n",
    "\n",
    "For $m_s = \\frac{1}{2}$:"
   ]
  },
  {
   "cell_type": "code",
   "execution_count": 5,
   "id": "62d8649d",
   "metadata": {},
   "outputs": [],
   "source": [
    "%matplotlib inline\n",
    "import numpy as np\n",
    "from qutip import *\n",
    "\n",
    "ms=1/2\n",
    "I_array=[0.5,0.5] # nuclear spin of spin 1 and 2\n",
    "\n",
    "I1=np.array([tensor(spin_Jx(nuclear_spin[0]),qeye(2)), #use J spin matrix in case spin !=1/2 \n",
    "             tensor(spin_Jy(nuclear_spin[0]),qeye(2)),\n",
    "             tensor(spin_Jz(nuclear_spin[0]),qeye(2))], \n",
    "            dtype=object)\n",
    "I2=np.array([tensor(qeye(2),spin_Jx(nuclear_spin[1])),\n",
    "             tensor(qeye(2),spin_Jy(nuclear_spin[1])),\n",
    "             tensor(qeye(2),spin_Jz(nuclear_spin[1]))],\n",
    "            dtype=object)\n",
    "\n",
    "\n",
    "A_tensor_i = np.array([[1,2,3],[4,5,6]]) #dummy A tensor. row loops over nuclei, col over xz, yz, zz\n",
    "\n",
    "H_hyperfine = ms*np.sum(A_tensor_i*np.array([I1,I2])) #equivalent to ms*(A_tensor_i[0,:]@I1+A_tensor_i[1,:]@I2)"
   ]
  },
  {
   "cell_type": "code",
   "execution_count": 6,
   "id": "cfde9951",
   "metadata": {},
   "outputs": [
    {
     "data": {
      "text/latex": [
       "Quantum object: dims = [[2, 2], [2, 2]], shape = (4, 4), type = oper, isherm = True\\begin{equation*}\\left(\\begin{array}{*{11}c}2.250 & (1.0-1.250j) & (0.250-0.500j) & 0.0\\\\(1.0+1.250j) & -0.750 & 0.0 & (0.250-0.500j)\\\\(0.250+0.500j) & 0.0 & 0.750 & (1.0-1.250j)\\\\0.0 & (0.250+0.500j) & (1.0+1.250j) & -2.250\\\\\\end{array}\\right)\\end{equation*}"
      ],
      "text/plain": [
       "Quantum object: dims = [[2, 2], [2, 2]], shape = (4, 4), type = oper, isherm = True\n",
       "Qobj data =\n",
       "[[ 2.25+0.j    1.  -1.25j  0.25-0.5j   0.  +0.j  ]\n",
       " [ 1.  +1.25j -0.75+0.j    0.  +0.j    0.25-0.5j ]\n",
       " [ 0.25+0.5j   0.  +0.j    0.75+0.j    1.  -1.25j]\n",
       " [ 0.  +0.j    0.25+0.5j   1.  +1.25j -2.25+0.j  ]]"
      ]
     },
     "execution_count": 6,
     "metadata": {},
     "output_type": "execute_result"
    }
   ],
   "source": [
    "H_hyperfine"
   ]
  },
  {
   "cell_type": "markdown",
   "id": "1f17a021",
   "metadata": {},
   "source": [
    "### Putting everything together:\n",
    "$\\newcommand{\\ket}[1]{\\left|{#1}\\right\\rangle}$\n",
    "$\\newcommand{\\bra}[1]{\\left\\langle{#1}\\right|}$\n",
    "\n",
    "From https://static-content.springer.com/esm/art%3A10.1038%2Fncomms12935/MediaObjects/41467_2016_BFncomms12935_MOESM89_ESM.pdf equation (8), (9):\n",
    "\n",
    "$$H_{total} = \\sum_{m_s = -\\frac{1}{2}}^{+\\frac{1}{2}}\\ket{m_s}\\bra{m_s} \\otimes H_{m_s} , $$\n",
    "\n",
    "$$ H_{m_s} = \\omega_{m_s} + H_{n} + H_{nn} + m_s\\sum_{i} \\vec{A}_i \\cdot \\vec{I}_i ,$$\n",
    "\n",
    "with $\\omega_{m_s} =  -\\gamma_e \\hbar B_z m_s * \\mathbb{1}$, $H_{n}$ is the Bath's nuclear zeeman hamiltonian, $H_{nn}$ is the Bath's nuclear-nuclear interactions Hamiltonian."
   ]
  },
  {
   "cell_type": "code",
   "execution_count": 20,
   "id": "6de2817b",
   "metadata": {},
   "outputs": [],
   "source": [
    "gamma_e = 2 \n",
    "hbar = 1\n",
    "Bz = B[2]\n",
    "ms = 1/2\n",
    "\n",
    "omega_ms = -gamma_e *hbar *Bz *ms*tensor(qeye(2),qeye(2))\n",
    "\n",
    "projector_up = basis(2,0)*dag(basis(2,0))\n",
    "projector_down =  basis(2,1)*dag(basis(2,1))\n",
    "\n",
    "H_tot = tensor(projector_up, (omega_ms+H_n+H_nn+H_hyperfine)) + tensor(projector_down, (-omega_ms+H_n+H_nn-H_hyperfine))"
   ]
  },
  {
   "cell_type": "code",
   "execution_count": 21,
   "id": "598090c1",
   "metadata": {},
   "outputs": [
    {
     "data": {
      "text/latex": [
       "Quantum object: dims = [[2, 2, 2], [2, 2, 2]], shape = (8, 8), type = oper, isherm = True\\begin{equation*}\\left(\\begin{array}{*{11}c}-0.250 & (0.998-1.248j) & (0.248-0.498j) & 0.004j & 0.0 & 0.0 & 0.0 & 0.0\\\\(0.998+1.248j) & -1.250 & 0.0 & (0.252-0.502j) & 0.0 & 0.0 & 0.0 & 0.0\\\\(0.248+0.498j) & 0.0 & -0.750 & (1.002-1.252j) & 0.0 & 0.0 & 0.0 & 0.0\\\\-0.004j & (0.252+0.502j) & (1.002+1.252j) & -1.750 & 0.0 & 0.0 & 0.0 & 0.0\\\\0.0 & 0.0 & 0.0 & 0.0 & -2.750 & (-1.002+1.252j) & (-0.252+0.502j) & 0.004j\\\\0.0 & 0.0 & 0.0 & 0.0 & (-1.002-1.252j) & 2.250 & 0.0 & (-0.248+0.498j)\\\\0.0 & 0.0 & 0.0 & 0.0 & (-0.252-0.502j) & 0.0 & -0.250 & (-0.998+1.248j)\\\\0.0 & 0.0 & 0.0 & 0.0 & -0.004j & (-0.248-0.498j) & (-0.998-1.248j) & 4.750\\\\\\end{array}\\right)\\end{equation*}"
      ],
      "text/plain": [
       "Quantum object: dims = [[2, 2, 2], [2, 2, 2]], shape = (8, 8), type = oper, isherm = True\n",
       "Qobj data =\n",
       "[[-0.25 +0.j     0.998-1.248j  0.248-0.498j  0.   +0.004j  0.   +0.j\n",
       "   0.   +0.j     0.   +0.j     0.   +0.j   ]\n",
       " [ 0.998+1.248j -1.25 +0.j     0.   +0.j     0.252-0.502j  0.   +0.j\n",
       "   0.   +0.j     0.   +0.j     0.   +0.j   ]\n",
       " [ 0.248+0.498j  0.   +0.j    -0.75 +0.j     1.002-1.252j  0.   +0.j\n",
       "   0.   +0.j     0.   +0.j     0.   +0.j   ]\n",
       " [ 0.   -0.004j  0.252+0.502j  1.002+1.252j -1.75 +0.j     0.   +0.j\n",
       "   0.   +0.j     0.   +0.j     0.   +0.j   ]\n",
       " [ 0.   +0.j     0.   +0.j     0.   +0.j     0.   +0.j    -2.75 +0.j\n",
       "  -1.002+1.252j -0.252+0.502j  0.   +0.004j]\n",
       " [ 0.   +0.j     0.   +0.j     0.   +0.j     0.   +0.j    -1.002-1.252j\n",
       "   2.25 +0.j     0.   +0.j    -0.248+0.498j]\n",
       " [ 0.   +0.j     0.   +0.j     0.   +0.j     0.   +0.j    -0.252-0.502j\n",
       "   0.   +0.j    -0.25 +0.j    -0.998+1.248j]\n",
       " [ 0.   +0.j     0.   +0.j     0.   +0.j     0.   +0.j     0.   -0.004j\n",
       "  -0.248-0.498j -0.998-1.248j  4.75 +0.j   ]]"
      ]
     },
     "execution_count": 21,
     "metadata": {},
     "output_type": "execute_result"
    }
   ],
   "source": [
    "H_tot"
   ]
  },
  {
   "cell_type": "code",
   "execution_count": 2,
   "id": "949b2956",
   "metadata": {},
   "outputs": [],
   "source": [
    "%matplotlib inline\n",
    "import numpy as np\n",
    "import matplotlib.pyplot as plt\n",
    "from qutip import *\n",
    "\n",
    "nuclear_spin=[0.5,0.5]\n",
    "\n",
    "I1=np.array([tensor(spin_Jx(nuclear_spin[0]),qeye(2)), #use J spin matrix in case spin !=1/2 \n",
    "             tensor(spin_Jy(nuclear_spin[0]),qeye(2)),\n",
    "             tensor(spin_Jz(nuclear_spin[0]),qeye(2))], \n",
    "            dtype=object)\n",
    "\n",
    "I2=np.array([tensor(qeye(2),spin_Jx(nuclear_spin[1])),\n",
    "             tensor(qeye(2),spin_Jy(nuclear_spin[1])),\n",
    "             tensor(qeye(2),spin_Jz(nuclear_spin[1]))],\n",
    "            dtype=object)"
   ]
  },
  {
   "cell_type": "code",
   "execution_count": 5,
   "id": "ed310c49",
   "metadata": {},
   "outputs": [
    {
     "data": {
      "text/latex": [
       "Quantum object: dims = [[2, 2], [2, 2]], shape = (4, 4), type = oper, isherm = False\\begin{equation*}\\left(\\begin{array}{*{11}c}0.0 & 0.0 & 0.0 & 0.0\\\\0.0 & 0.0 & 0.0 & 0.0\\\\1.0 & 0.0 & 0.0 & 0.0\\\\0.0 & 1.0 & 0.0 & 0.0\\\\\\end{array}\\right)\\end{equation*}"
      ],
      "text/plain": [
       "Quantum object: dims = [[2, 2], [2, 2]], shape = (4, 4), type = oper, isherm = False\n",
       "Qobj data =\n",
       "[[0. 0. 0. 0.]\n",
       " [0. 0. 0. 0.]\n",
       " [1. 0. 0. 0.]\n",
       " [0. 1. 0. 0.]]"
      ]
     },
     "execution_count": 5,
     "metadata": {},
     "output_type": "execute_result"
    }
   ],
   "source": [
    "I1_plus=tensor(create(2),qeye(2))\n",
    "I1_plus"
   ]
  },
  {
   "cell_type": "code",
   "execution_count": 6,
   "id": "1a5940e1",
   "metadata": {},
   "outputs": [
    {
     "data": {
      "text/latex": [
       "Quantum object: dims = [[2, 2], [2, 2]], shape = (4, 4), type = oper, isherm = False\\begin{equation*}\\left(\\begin{array}{*{11}c}0.0 & 1.0 & 0.0 & 0.0\\\\0.0 & 0.0 & 0.0 & 0.0\\\\0.0 & 0.0 & 0.0 & 1.0\\\\0.0 & 0.0 & 0.0 & 0.0\\\\\\end{array}\\right)\\end{equation*}"
      ],
      "text/plain": [
       "Quantum object: dims = [[2, 2], [2, 2]], shape = (4, 4), type = oper, isherm = False\n",
       "Qobj data =\n",
       "[[0. 1. 0. 0.]\n",
       " [0. 0. 0. 0.]\n",
       " [0. 0. 0. 1.]\n",
       " [0. 0. 0. 0.]]"
      ]
     },
     "execution_count": 6,
     "metadata": {},
     "output_type": "execute_result"
    }
   ],
   "source": [
    "I2_minus=tensor(qeye(2),destroy(2))\n",
    "I2_minus"
   ]
  },
  {
   "cell_type": "code",
   "execution_count": 7,
   "id": "9b1fbbf8",
   "metadata": {},
   "outputs": [
    {
     "data": {
      "text/latex": [
       "Quantum object: dims = [[2, 2], [2, 2]], shape = (4, 4), type = oper, isherm = False\\begin{equation*}\\left(\\begin{array}{*{11}c}0.0 & 0.0 & 0.0 & 0.0\\\\0.0 & 0.0 & 0.0 & 0.0\\\\0.0 & 1.0 & 0.0 & 0.0\\\\0.0 & 0.0 & 0.0 & 0.0\\\\\\end{array}\\right)\\end{equation*}"
      ],
      "text/plain": [
       "Quantum object: dims = [[2, 2], [2, 2]], shape = (4, 4), type = oper, isherm = False\n",
       "Qobj data =\n",
       "[[0. 0. 0. 0.]\n",
       " [0. 0. 0. 0.]\n",
       " [0. 1. 0. 0.]\n",
       " [0. 0. 0. 0.]]"
      ]
     },
     "execution_count": 7,
     "metadata": {},
     "output_type": "execute_result"
    }
   ],
   "source": [
    "I1_plus*I2_minus"
   ]
  },
  {
   "cell_type": "code",
   "execution_count": 8,
   "id": "2041da56",
   "metadata": {},
   "outputs": [
    {
     "data": {
      "text/latex": [
       "Quantum object: dims = [[2, 2], [2, 2]], shape = (4, 4), type = oper, isherm = False\\begin{equation*}\\left(\\begin{array}{*{11}c}0.0 & 0.0 & 1.0 & 0.0\\\\0.0 & 0.0 & 0.0 & 1.0\\\\0.0 & 0.0 & 0.0 & 0.0\\\\0.0 & 0.0 & 0.0 & 0.0\\\\\\end{array}\\right)\\end{equation*}"
      ],
      "text/plain": [
       "Quantum object: dims = [[2, 2], [2, 2]], shape = (4, 4), type = oper, isherm = False\n",
       "Qobj data =\n",
       "[[0. 0. 1. 0.]\n",
       " [0. 0. 0. 1.]\n",
       " [0. 0. 0. 0.]\n",
       " [0. 0. 0. 0.]]"
      ]
     },
     "execution_count": 8,
     "metadata": {},
     "output_type": "execute_result"
    }
   ],
   "source": [
    "I1_minus=tensor(destroy(2),qeye(2))\n",
    "I1_minus"
   ]
  },
  {
   "cell_type": "code",
   "execution_count": 9,
   "id": "6d57aa15",
   "metadata": {},
   "outputs": [
    {
     "data": {
      "text/latex": [
       "Quantum object: dims = [[2, 2], [2, 2]], shape = (4, 4), type = oper, isherm = False\\begin{equation*}\\left(\\begin{array}{*{11}c}0.0 & 0.0 & 0.0 & 0.0\\\\1.0 & 0.0 & 0.0 & 0.0\\\\0.0 & 0.0 & 0.0 & 0.0\\\\0.0 & 0.0 & 1.0 & 0.0\\\\\\end{array}\\right)\\end{equation*}"
      ],
      "text/plain": [
       "Quantum object: dims = [[2, 2], [2, 2]], shape = (4, 4), type = oper, isherm = False\n",
       "Qobj data =\n",
       "[[0. 0. 0. 0.]\n",
       " [1. 0. 0. 0.]\n",
       " [0. 0. 0. 0.]\n",
       " [0. 0. 1. 0.]]"
      ]
     },
     "execution_count": 9,
     "metadata": {},
     "output_type": "execute_result"
    }
   ],
   "source": [
    "I2_plus=tensor(qeye(2),create(2))\n",
    "I2_plus"
   ]
  },
  {
   "cell_type": "code",
   "execution_count": 10,
   "id": "72601c65",
   "metadata": {},
   "outputs": [
    {
     "data": {
      "text/latex": [
       "Quantum object: dims = [[2, 2], [2, 2]], shape = (4, 4), type = oper, isherm = False\\begin{equation*}\\left(\\begin{array}{*{11}c}0.0 & 0.0 & 0.0 & 0.0\\\\0.0 & 0.0 & 1.0 & 0.0\\\\0.0 & 0.0 & 0.0 & 0.0\\\\0.0 & 0.0 & 0.0 & 0.0\\\\\\end{array}\\right)\\end{equation*}"
      ],
      "text/plain": [
       "Quantum object: dims = [[2, 2], [2, 2]], shape = (4, 4), type = oper, isherm = False\n",
       "Qobj data =\n",
       "[[0. 0. 0. 0.]\n",
       " [0. 0. 1. 0.]\n",
       " [0. 0. 0. 0.]\n",
       " [0. 0. 0. 0.]]"
      ]
     },
     "execution_count": 10,
     "metadata": {},
     "output_type": "execute_result"
    }
   ],
   "source": [
    "I1_minus*I2_plus"
   ]
  },
  {
   "cell_type": "code",
   "execution_count": 19,
   "id": "337adf35",
   "metadata": {},
   "outputs": [
    {
     "data": {
      "text/latex": [
       "Quantum object: dims = [[2, 2], [2, 2]], shape = (4, 4), type = oper, isherm = True\\begin{equation*}\\left(\\begin{array}{*{11}c}0.250 & 0.0 & 0.0 & 0.0\\\\0.0 & -0.250 & 0.0 & 0.0\\\\0.0 & 0.0 & -0.250 & 0.0\\\\0.0 & 0.0 & 0.0 & 0.250\\\\\\end{array}\\right)\\end{equation*}"
      ],
      "text/plain": [
       "Quantum object: dims = [[2, 2], [2, 2]], shape = (4, 4), type = oper, isherm = True\n",
       "Qobj data =\n",
       "[[ 0.25  0.    0.    0.  ]\n",
       " [ 0.   -0.25  0.    0.  ]\n",
       " [ 0.    0.   -0.25  0.  ]\n",
       " [ 0.    0.    0.    0.25]]"
      ]
     },
     "execution_count": 19,
     "metadata": {},
     "output_type": "execute_result"
    }
   ],
   "source": [
    "I1[2]*I2[2]"
   ]
  },
  {
   "cell_type": "code",
   "execution_count": 20,
   "id": "a61109b1",
   "metadata": {},
   "outputs": [
    {
     "data": {
      "text/latex": [
       "Quantum object: dims = [[2, 2], [2, 2]], shape = (4, 4), type = oper, isherm = True\\begin{equation*}\\left(\\begin{array}{*{11}c}0.500 & 0.0 & 0.0 & 0.0\\\\0.0 & 0.500 & 0.0 & 0.0\\\\0.0 & 0.0 & -0.500 & 0.0\\\\0.0 & 0.0 & 0.0 & -0.500\\\\\\end{array}\\right)\\end{equation*}"
      ],
      "text/plain": [
       "Quantum object: dims = [[2, 2], [2, 2]], shape = (4, 4), type = oper, isherm = True\n",
       "Qobj data =\n",
       "[[ 0.5  0.   0.   0. ]\n",
       " [ 0.   0.5  0.   0. ]\n",
       " [ 0.   0.  -0.5  0. ]\n",
       " [ 0.   0.   0.  -0.5]]"
      ]
     },
     "execution_count": 20,
     "metadata": {},
     "output_type": "execute_result"
    }
   ],
   "source": [
    "tensor(spin_Jz(nuclear_spin[0]),qeye(2))"
   ]
  },
  {
   "cell_type": "code",
   "execution_count": 22,
   "id": "014b53ac",
   "metadata": {},
   "outputs": [
    {
     "data": {
      "text/latex": [
       "Quantum object: dims = [[2, 2], [2, 2]], shape = (4, 4), type = oper, isherm = True\\begin{equation*}\\left(\\begin{array}{*{11}c}1.0 & 0.0 & 0.0 & 0.0\\\\0.0 & 1.0 & 0.0 & 0.0\\\\0.0 & 0.0 & -1.0 & 0.0\\\\0.0 & 0.0 & 0.0 & -1.0\\\\\\end{array}\\right)\\end{equation*}"
      ],
      "text/plain": [
       "Quantum object: dims = [[2, 2], [2, 2]], shape = (4, 4), type = oper, isherm = True\n",
       "Qobj data =\n",
       "[[ 1.  0.  0.  0.]\n",
       " [ 0.  1.  0.  0.]\n",
       " [ 0.  0. -1.  0.]\n",
       " [ 0.  0.  0. -1.]]"
      ]
     },
     "execution_count": 22,
     "metadata": {},
     "output_type": "execute_result"
    }
   ],
   "source": [
    "tensor(sigmaz(),qeye(2))"
   ]
  },
  {
   "cell_type": "code",
   "execution_count": 23,
   "id": "a13ab868",
   "metadata": {},
   "outputs": [
    {
     "data": {
      "text/latex": [
       "Quantum object: dims = [[2], [2]], shape = (2, 2), type = oper, isherm = False\\begin{equation*}\\left(\\begin{array}{*{11}c}0.0 & 1.0\\\\0.0 & 0.0\\\\\\end{array}\\right)\\end{equation*}"
      ],
      "text/plain": [
       "Quantum object: dims = [[2], [2]], shape = (2, 2), type = oper, isherm = False\n",
       "Qobj data =\n",
       "[[0. 1.]\n",
       " [0. 0.]]"
      ]
     },
     "execution_count": 23,
     "metadata": {},
     "output_type": "execute_result"
    }
   ],
   "source": [
    "sigmap()"
   ]
  },
  {
   "cell_type": "code",
   "execution_count": 27,
   "id": "48aaee44",
   "metadata": {},
   "outputs": [
    {
     "data": {
      "text/latex": [
       "Quantum object: dims = [[2], [2]], shape = (2, 2), type = oper, isherm = False\\begin{equation*}\\left(\\begin{array}{*{11}c}0.0 & 1.0\\\\0.0 & 0.0\\\\\\end{array}\\right)\\end{equation*}"
      ],
      "text/plain": [
       "Quantum object: dims = [[2], [2]], shape = (2, 2), type = oper, isherm = False\n",
       "Qobj data =\n",
       "[[0. 1.]\n",
       " [0. 0.]]"
      ]
     },
     "execution_count": 27,
     "metadata": {},
     "output_type": "execute_result"
    }
   ],
   "source": [
    "destroy(2)"
   ]
  },
  {
   "cell_type": "code",
   "execution_count": 36,
   "id": "90ab0ba3",
   "metadata": {},
   "outputs": [
    {
     "data": {
      "text/latex": [
       "Quantum object: dims = [[2, 2], [2, 2]], shape = (4, 4), type = oper, isherm = False\\begin{equation*}\\left(\\begin{array}{*{11}c}0.0 & 0.0 & 0.0 & 0.0\\\\0.0 & 0.0 & 0.0 & 0.0\\\\1.0 & 0.0 & 0.0 & 0.0\\\\0.0 & 1.0 & 0.0 & 0.0\\\\\\end{array}\\right)\\end{equation*}"
      ],
      "text/plain": [
       "Quantum object: dims = [[2, 2], [2, 2]], shape = (4, 4), type = oper, isherm = False\n",
       "Qobj data =\n",
       "[[0. 0. 0. 0.]\n",
       " [0. 0. 0. 0.]\n",
       " [1. 0. 0. 0.]\n",
       " [0. 1. 0. 0.]]"
      ]
     },
     "execution_count": 36,
     "metadata": {},
     "output_type": "execute_result"
    }
   ],
   "source": [
    "I1[0]-1.j*I1[1]"
   ]
  },
  {
   "cell_type": "code",
   "execution_count": 35,
   "id": "9ce1060c",
   "metadata": {},
   "outputs": [
    {
     "data": {
      "text/latex": [
       "Quantum object: dims = [[2, 2], [2, 2]], shape = (4, 4), type = oper, isherm = False\\begin{equation*}\\left(\\begin{array}{*{11}c}0.0 & 0.0 & 0.0 & 0.0\\\\0.0 & 0.0 & 0.0 & 0.0\\\\1.0 & 0.0 & 0.0 & 0.0\\\\0.0 & 1.0 & 0.0 & 0.0\\\\\\end{array}\\right)\\end{equation*}"
      ],
      "text/plain": [
       "Quantum object: dims = [[2, 2], [2, 2]], shape = (4, 4), type = oper, isherm = False\n",
       "Qobj data =\n",
       "[[0. 0. 0. 0.]\n",
       " [0. 0. 0. 0.]\n",
       " [1. 0. 0. 0.]\n",
       " [0. 1. 0. 0.]]"
      ]
     },
     "execution_count": 35,
     "metadata": {},
     "output_type": "execute_result"
    }
   ],
   "source": [
    "tensor(create(2),qeye(2))"
   ]
  },
  {
   "cell_type": "code",
   "execution_count": null,
   "id": "68ed0556",
   "metadata": {},
   "outputs": [],
   "source": []
  }
 ],
 "metadata": {
  "kernelspec": {
   "display_name": "Python 3",
   "language": "python",
   "name": "python3"
  },
  "language_info": {
   "codemirror_mode": {
    "name": "ipython",
    "version": 3
   },
   "file_extension": ".py",
   "mimetype": "text/x-python",
   "name": "python",
   "nbconvert_exporter": "python",
   "pygments_lexer": "ipython3",
   "version": "3.7.1"
  }
 },
 "nbformat": 4,
 "nbformat_minor": 5
}
